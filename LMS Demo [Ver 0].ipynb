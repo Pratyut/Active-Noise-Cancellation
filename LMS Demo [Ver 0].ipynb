{
 "metadata": {
  "name": "",
  "signature": "sha256:a61cc6d9ebfd7b5db5f6ebd3e9abdb7280c9015af1cd18a108ee350acb94ffd3"
 },
 "nbformat": 3,
 "nbformat_minor": 0,
 "worksheets": [
  {
   "cells": [
    {
     "cell_type": "markdown",
     "metadata": {},
     "source": [
      "#LMS Demo [Ver 0]\n",
      "\n",
      "Sajil C K and Stephen Welch\n",
      "\n",
      "June 1, 2015"
     ]
    },
    {
     "cell_type": "code",
     "collapsed": false,
     "input": [],
     "language": "python",
     "metadata": {},
     "outputs": []
    }
   ],
   "metadata": {}
  }
 ]
}