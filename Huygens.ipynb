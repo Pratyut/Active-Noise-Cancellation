{
 "cells": [
  {
   "cell_type": "markdown",
   "metadata": {},
   "source": [
    "# Huygens Demo\n",
    "#####Sajil C K and Stephen Welch\n",
    "This demo is for explaining Huygens Principle which states that every plain wave can be approximated as sum of infinite number of small circular waves spatially distributed in space. \n",
    "#####June 18, 2015"
   ]
  },
  {
   "cell_type": "markdown",
   "metadata": {},
   "source": [
    "Import Modules:"
   ]
  },
  {
   "cell_type": "code",
   "execution_count": 13,
   "metadata": {
    "collapsed": true
   },
   "outputs": [],
   "source": [
    "import math\n",
    "import numpy as np\n",
    "import matplotlib.pyplot as plt\n",
    "%matplotlib inline"
   ]
  },
  {
   "cell_type": "markdown",
   "metadata": {},
   "source": [
    "Parameter Specifications:"
   ]
  },
  {
   "cell_type": "code",
   "execution_count": 14,
   "metadata": {
    "collapsed": false
   },
   "outputs": [],
   "source": [
    "delta = 100  # Set step size here"
   ]
  },
  {
   "cell_type": "markdown",
   "metadata": {},
   "source": [
    "Generate Input Vector - It generates x values from -1 to 1 with an interval of delta :"
   ]
  },
  {
   "cell_type": "code",
   "execution_count": 15,
   "metadata": {
    "collapsed": false
   },
   "outputs": [],
   "source": [
    "x = np.arange(-1, 1, (1.0/delta) )"
   ]
  },
  {
   "cell_type": "markdown",
   "metadata": {},
   "source": [
    "Generate Output Vector - Using equation for a unit circle :"
   ]
  },
  {
   "cell_type": "code",
   "execution_count": 16,
   "metadata": {
    "collapsed": false
   },
   "outputs": [],
   "source": [
    "y = np.sqrt(1-np.square(x))"
   ]
  },
  {
   "cell_type": "markdown",
   "metadata": {},
   "source": [
    "Plot the basic secondary wave generated :"
   ]
  },
  {
   "cell_type": "code",
   "execution_count": 17,
   "metadata": {
    "collapsed": false
   },
   "outputs": [
    {
     "data": {
      "text/plain": [
       "[<matplotlib.lines.Line2D at 0xb2b22e8>]"
      ]
     },
     "execution_count": 17,
     "metadata": {},
     "output_type": "execute_result"
    },
    {
     "data": {
      "image/png": "[encoded data removed]",
      "text/plain": [
       "<matplotlib.figure.Figure at 0xb184630>"
      ]
     },
     "metadata": {},
     "output_type": "display_data"
    }
   ],
   "source": [
    "plt.plot(x,y)"
   ]
  },
  {
   "cell_type": "markdown",
   "metadata": {},
   "source": [
    "Calculating Secondary waves their sum and plotting these :"
   ]
  },
  {
   "cell_type": "code",
   "execution_count": 24,
   "metadata": {
    "collapsed": false
   },
   "outputs": [],
   "source": [
    "def superimpose(shift):\n",
    "  \n",
    "    Ly    = len(y)\n",
    "    c     = 0\n",
    "    #shift = 75\n",
    "    # Create Empty 2D Array for Secondary Waves\n",
    "    z = np.zeros(((Ly/shift)+1,Ly))\n",
    "\n",
    "    #print np.shape(z)\n",
    "    offsets = np.arange(0,Ly,shift)\n",
    "\n",
    "    for i in offsets:\n",
    "        z[c][np.arange(0,Ly)] = np.roll(y,i)\n",
    "        c = c+1\n",
    "\n",
    "    # Calculate the Resultant Wavefront\n",
    "    wavefront=z.sum(axis=0)\n",
    "\n",
    "    # Plot the resulting Wavefront\n",
    "    plt.plot(x,wavefront)\n",
    "    \n",
    "    plt.title('Generated Wavefront')\n",
    "    plt.xlabel('Space')\n",
    "    plt.ylabel('Amplitue')\n",
    "\n",
    "    \n",
    "    plt.grid(1)\n",
    "    print z"
   ]
  },
  {
   "cell_type": "code",
   "execution_count": 25,
   "metadata": {
    "collapsed": false
   },
   "outputs": [],
   "source": [
    "from IPython.html.widgets import interact"
   ]
  },
  {
   "cell_type": "code",
   "execution_count": 26,
   "metadata": {
    "collapsed": false
   },
   "outputs": [
    {
     "name": "stdout",
     "output_type": "stream",
     "text": [
      "[[ 0.          0.14106736  0.19899749  0.24310492  0.28        0.3122499\n",
      "   0.34117444  0.36755952  0.39191836  0.41460825  0.43588989  0.45596052\n",
      "   0.47497368  0.49305172  0.51029403  0.52678269  0.5425864   0.55776339\n",
      "   0.57236352  0.58642988  0.6         0.61310684  0.62577951  0.63804389\n",
      "   0.64992307  0.66143783  0.67260687  0.68344714  0.69397406  0.70420168\n",
      "   0.71414284  0.72380937  0.73321211  0.7423611   0.7512656   0.75993421\n",
      "   0.76837491  0.77659513  0.78460181  0.79240141  0.8         0.80740324\n",
      "   0.81461647  0.82164469  0.82849261  0.83516465  0.84166502  0.84799764\n",
      "   0.85416626  0.8601744   0.8660254   0.87172243  0.87726849  0.88266641\n",
      "   0.88791892  0.89302855  0.89799777  0.90282889  0.9075241   0.91208552\n",
      "   0.91651514  0.92081486  0.92498649  0.92903175  0.9329523   0.9367497\n",
      "   0.94042544  0.94398093  0.94741754  0.95073656  0.9539392   0.95702665\n",
      "   0.96        0.96286032  0.96560862  0.96824584  0.97077289  0.97319063\n",
      "   0.97549987  0.97770139  0.9797959   0.98178409  0.98366661  0.98544406\n",
      "   0.98711701  0.988686    0.9901515   0.99151399  0.99277389  0.99393159\n",
      "   0.99498744  0.99594177  0.99679486  0.99754699  0.99819838  0.99874922\n",
      "   0.99919968  0.9995499   0.99979998  0.99995     1.          0.99995\n",
      "   0.99979998  0.9995499   0.99919968  0.99874922  0.99819838  0.99754699\n",
      "   0.99679486  0.99594177  0.99498744  0.99393159  0.99277389  0.99151399\n",
      "   0.9901515   0.988686    0.98711701  0.98544406  0.98366661  0.98178409\n",
      "   0.9797959   0.97770139  0.97549987  0.97319063  0.97077289  0.96824584\n",
      "   0.96560862  0.96286032  0.96        0.95702665  0.9539392   0.95073656\n",
      "   0.94741754  0.94398093  0.94042544  0.9367497   0.9329523   0.92903175\n",
      "   0.92498649  0.92081486  0.91651514  0.91208552  0.9075241   0.90282889\n",
      "   0.89799777  0.89302855  0.88791892  0.88266641  0.87726849  0.87172243\n",
      "   0.8660254   0.8601744   0.85416626  0.84799764  0.84166502  0.83516465\n",
      "   0.82849261  0.82164469  0.81461647  0.80740324  0.8         0.79240141\n",
      "   0.78460181  0.77659513  0.76837491  0.75993421  0.7512656   0.7423611\n",
      "   0.73321211  0.72380937  0.71414284  0.70420168  0.69397406  0.68344714\n",
      "   0.67260687  0.66143783  0.64992307  0.63804389  0.62577951  0.61310684\n",
      "   0.6         0.58642988  0.57236352  0.55776339  0.5425864   0.52678269\n",
      "   0.51029403  0.49305172  0.47497368  0.45596052  0.43588989  0.41460825\n",
      "   0.39191836  0.36755952  0.34117444  0.3122499   0.28        0.24310492\n",
      "   0.19899749  0.14106736]]\n"
     ]
    },
    {
     "data": {
      "text/plain": [
       "<function __main__.superimpose>"
      ]
     },
     "execution_count": 26,
     "metadata": {},
     "output_type": "execute_result"
    },
    {
     "data": {
      "image/png": "[encoded data removed]",
      "text/plain": [
       "<matplotlib.figure.Figure at 0xba35fd0>"
      ]
     },
     "metadata": {},
     "output_type": "display_data"
    }
   ],
   "source": [
    "interact(superimpose, shift= (1, 1000))"
   ]
  },
  {
   "cell_type": "markdown",
   "metadata": {},
   "source": [
    "While shift=1 the amplitude converges to a value of 2.5 at every spatial point!!!"
   ]
  },
  {
   "cell_type": "code",
   "execution_count": 9,
   "metadata": {
    "collapsed": false
   },
   "outputs": [
    {
     "ename": "NameError",
     "evalue": "name 'z' is not defined",
     "output_type": "error",
     "traceback": [
      "\u001b[1;31m---------------------------------------------------------------------------\u001b[0m",
      "\u001b[1;31mNameError\u001b[0m                                 Traceback (most recent call last)",
      "\u001b[1;32m<ipython-input-9-478d9b00625c>\u001b[0m in \u001b[0;36m<module>\u001b[1;34m()\u001b[0m\n\u001b[1;32m----> 1\u001b[1;33m \u001b[1;32mprint\u001b[0m \u001b[0mz\u001b[0m\u001b[1;33m[\u001b[0m\u001b[1;36m0\u001b[0m\u001b[1;33m]\u001b[0m\u001b[1;33m\u001b[0m\u001b[0m\n\u001b[0m",
      "\u001b[1;31mNameError\u001b[0m: name 'z' is not defined"
     ]
    }
   ],
   "source": [
    "print z[0]"
   ]
  },
  {
   "cell_type": "code",
   "execution_count": 21,
   "metadata": {
    "collapsed": false
   },
   "outputs": [
    {
     "name": "stdout",
     "output_type": "stream",
     "text": [
      "[ 0.          0.14106736  0.19899749  0.24310492  0.28        0.3122499\n",
      "  0.34117444  0.36755952  0.39191836  0.41460825  0.43588989  0.45596052\n",
      "  0.47497368  0.49305172  0.51029403  0.52678269  0.5425864   0.55776339\n",
      "  0.57236352  0.58642988  0.6         0.61310684  0.62577951  0.63804389\n",
      "  0.64992307  0.66143783  0.67260687  0.68344714  0.69397406  0.70420168\n",
      "  0.71414284  0.72380937  0.73321211  0.7423611   0.7512656   0.75993421\n",
      "  0.76837491  0.77659513  0.78460181  0.79240141  0.8         0.80740324\n",
      "  0.81461647  0.82164469  0.82849261  0.83516465  0.84166502  0.84799764\n",
      "  0.85416626  0.8601744   0.8660254   0.87172243  0.87726849  0.88266641\n",
      "  0.88791892  0.89302855  0.89799777  0.90282889  0.9075241   0.91208552\n",
      "  0.91651514  0.92081486  0.92498649  0.92903175  0.9329523   0.9367497\n",
      "  0.94042544  0.94398093  0.94741754  0.95073656  0.9539392   0.95702665\n",
      "  0.96        0.96286032  0.96560862  0.96824584  0.97077289  0.97319063\n",
      "  0.97549987  0.97770139  0.9797959   0.98178409  0.98366661  0.98544406\n",
      "  0.98711701  0.988686    0.9901515   0.99151399  0.99277389  0.99393159\n",
      "  0.99498744  0.99594177  0.99679486  0.99754699  0.99819838  0.99874922\n",
      "  0.99919968  0.9995499   0.99979998  0.99995     1.          0.99995\n",
      "  0.99979998  0.9995499   0.99919968  0.99874922  0.99819838  0.99754699\n",
      "  0.99679486  0.99594177  0.99498744  0.99393159  0.99277389  0.99151399\n",
      "  0.9901515   0.988686    0.98711701  0.98544406  0.98366661  0.98178409\n",
      "  0.9797959   0.97770139  0.97549987  0.97319063  0.97077289  0.96824584\n",
      "  0.96560862  0.96286032  0.96        0.95702665  0.9539392   0.95073656\n",
      "  0.94741754  0.94398093  0.94042544  0.9367497   0.9329523   0.92903175\n",
      "  0.92498649  0.92081486  0.91651514  0.91208552  0.9075241   0.90282889\n",
      "  0.89799777  0.89302855  0.88791892  0.88266641  0.87726849  0.87172243\n",
      "  0.8660254   0.8601744   0.85416626  0.84799764  0.84166502  0.83516465\n",
      "  0.82849261  0.82164469  0.81461647  0.80740324  0.8         0.79240141\n",
      "  0.78460181  0.77659513  0.76837491  0.75993421  0.7512656   0.7423611\n",
      "  0.73321211  0.72380937  0.71414284  0.70420168  0.69397406  0.68344714\n",
      "  0.67260687  0.66143783  0.64992307  0.63804389  0.62577951  0.61310684\n",
      "  0.6         0.58642988  0.57236352  0.55776339  0.5425864   0.52678269\n",
      "  0.51029403  0.49305172  0.47497368  0.45596052  0.43588989  0.41460825\n",
      "  0.39191836  0.36755952  0.34117444  0.3122499   0.28        0.24310492\n",
      "  0.19899749  0.14106736]\n"
     ]
    }
   ],
   "source": [
    "print y"
   ]
  },
  {
   "cell_type": "code",
   "execution_count": 22,
   "metadata": {
    "collapsed": false
   },
   "outputs": [
    {
     "data": {
      "text/plain": [
       "157.02085158895215"
      ]
     },
     "execution_count": 22,
     "metadata": {},
     "output_type": "execute_result"
    }
   ],
   "source": [
    "y.sum()"
   ]
  },
  {
   "cell_type": "code",
   "execution_count": 23,
   "metadata": {
    "collapsed": false
   },
   "outputs": [
    {
     "ename": "NameError",
     "evalue": "name 'z' is not defined",
     "output_type": "error",
     "traceback": [
      "\u001b[1;31m---------------------------------------------------------------------------\u001b[0m",
      "\u001b[1;31mNameError\u001b[0m                                 Traceback (most recent call last)",
      "\u001b[1;32m<ipython-input-23-771f2b45b9f9>\u001b[0m in \u001b[0;36m<module>\u001b[1;34m()\u001b[0m\n\u001b[1;32m----> 1\u001b[1;33m \u001b[1;32mprint\u001b[0m \u001b[0mz\u001b[0m\u001b[1;33m\u001b[0m\u001b[0m\n\u001b[0m",
      "\u001b[1;31mNameError\u001b[0m: name 'z' is not defined"
     ]
    }
   ],
   "source": [
    "print z"
   ]
  },
  {
   "cell_type": "code",
   "execution_count": 27,
   "metadata": {
    "collapsed": false
   },
   "outputs": [
    {
     "data": {
      "text/plain": [
       "-0.99999999999982947"
      ]
     },
     "execution_count": 27,
     "metadata": {},
     "output_type": "execute_result"
    }
   ],
   "source": [
    "x.sum()"
   ]
  },
  {
   "cell_type": "code",
   "execution_count": null,
   "metadata": {
    "collapsed": true
   },
   "outputs": [],
   "source": []
  }
 ],
 "metadata": {
  "kernelspec": {
   "display_name": "Python 2",
   "language": "python",
   "name": "python2"
  },
  "language_info": {
   "codemirror_mode": {
    "name": "ipython",
    "version": 2
   },
   "file_extension": ".py",
   "mimetype": "text/x-python",
   "name": "python",
   "nbconvert_exporter": "python",
   "pygments_lexer": "ipython2",
   "version": "2.7.9"
  }
 },
 "nbformat": 4,
 "nbformat_minor": 0
}
